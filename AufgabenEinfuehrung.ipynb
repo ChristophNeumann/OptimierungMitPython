{
 "cells": [
  {
   "cell_type": "markdown",
   "metadata": {},
   "source": [
    "# Aufgaben zum Python Schnellkurs\n"
   ]
  },
  {
   "cell_type": "code",
   "execution_count": null,
   "metadata": {},
   "outputs": [],
   "source": [
    "import numpy as np"
   ]
  },
  {
   "cell_type": "markdown",
   "metadata": {},
   "source": [
    "## Übung 1\n",
    "Schreiben Sie eine Funktion zur Berechnung des Volumens eines Quaders. Länge, Breite und Höhe sollen der Funktion als Parameter übergeben werden."
   ]
  },
  {
   "cell_type": "code",
   "execution_count": null,
   "metadata": {},
   "outputs": [],
   "source": []
  },
  {
   "cell_type": "markdown",
   "metadata": {},
   "source": [
    "## Übung 2: \n",
    "Schreiben Sie eine Funktion für die stückweise definierte Funktion für Argumente aus $\\mathbb{R}$\n",
    "\n",
    "$$ f(x)\\ =\\ \\left\\{\\begin{array}{cl}0\\,,& x<0\\\\ \\frac{1}{2}\\,x^2\\,,&0\\le x\\le 1\\\\\n",
    "x-\\frac12\\,,& x>1\\ .\\end{array}\\right. $$"
   ]
  },
  {
   "cell_type": "code",
   "execution_count": null,
   "metadata": {},
   "outputs": [],
   "source": []
  },
  {
   "cell_type": "markdown",
   "metadata": {},
   "source": [
    "## Übung 3 a)\n",
    "\n",
    "Plotten Sie die Funktion aus Übung 2 auf dem Intervall $[-3,5]$. Beschriften sie den Plot mit einem Titel, einer Legende und färben Sie den Graphen rot. \n",
    "\n",
    "<b>Hinweis: Bitte beachten Sie, dass die Funktion nicht vektorisiert geschrieben ist und eine Auswertung daher für jedes Element einzeln erforderlich ist </b>"
   ]
  },
  {
   "cell_type": "code",
   "execution_count": null,
   "metadata": {},
   "outputs": [],
   "source": [
    "from matplotlib import pyplot as plt\n",
    "%matplotlib notebook"
   ]
  },
  {
   "cell_type": "code",
   "execution_count": null,
   "metadata": {},
   "outputs": [],
   "source": []
  },
  {
   "cell_type": "markdown",
   "metadata": {},
   "source": [
    "## Übung 3b)\n",
    "\n",
    "Schreiben Sie eine Funktion, die jeder Komponente $x_i$ eines Vektors $x\\in \\mathbb{R}^n$ den Funktionswert der Stückweise definierten Funktion aus Übung 2 zuordnet und ohne die Verwendung von Schleifen auskommt.\n",
    "\n",
    "Wiederholen Sie Übung 3 mit der neuen vektorisierten Funktion."
   ]
  },
  {
   "cell_type": "code",
   "execution_count": null,
   "metadata": {},
   "outputs": [],
   "source": []
  },
  {
   "cell_type": "code",
   "execution_count": null,
   "metadata": {},
   "outputs": [],
   "source": []
  },
  {
   "cell_type": "markdown",
   "metadata": {},
   "source": [
    "## Übung 4\n",
    "\n",
    "Schreiben Sie eine Funktion zur Bestimmung des drittgrößten Eintrags eines Vektors. Schreiben Sie diese Funktion allgemein, dass Sie ohne Aufwand auch z.B. den $k-$ten Eintrag eines Vektors der Länge $n\\ge k$ bestimmen können. Testen Sie ihre Funktion am Vektor $(1,2,7,-5,3,10,1)^\\top$. "
   ]
  },
  {
   "cell_type": "code",
   "execution_count": null,
   "metadata": {},
   "outputs": [],
   "source": []
  },
  {
   "cell_type": "code",
   "execution_count": null,
   "metadata": {},
   "outputs": [],
   "source": []
  },
  {
   "cell_type": "markdown",
   "metadata": {},
   "source": [
    "## Übung 6 \n",
    "\n",
    "Plotten Sie die Funktion $g(x) = (x_1^2-x_2)\\cdot(x_1^2 - 3 x_2)$ auf $[-2,2]\\times [-2,4]$. "
   ]
  },
  {
   "cell_type": "code",
   "execution_count": null,
   "metadata": {},
   "outputs": [],
   "source": [
    "from mpl_toolkits.mplot3d import axes3d\n",
    "from matplotlib import cm"
   ]
  },
  {
   "cell_type": "code",
   "execution_count": null,
   "metadata": {},
   "outputs": [],
   "source": []
  },
  {
   "cell_type": "code",
   "execution_count": null,
   "metadata": {},
   "outputs": [],
   "source": []
  },
  {
   "cell_type": "markdown",
   "metadata": {},
   "source": [
    "## Übung 6\n",
    "Lösen Sie das folgende unrestringierte nichtlineare Optimierungsproblem\n",
    "\n",
    "$$\\min_{x\\in\\mathbb{R}^2}\\ 3x_1^2 + 2x_1x_2 + x_2^2 - 2x_1\\quad \\text{s.t.}\\quad x_2 \\geq 0$$\n",
    "\n",
    "mit Hilfe der Funktion `minimize` des [SciPy-Pakets](https://docs.scipy.org/doc/scipy/reference/generated/scipy.optimize.minimize.html#scipy.optimize.minimize) `scipy.optimize`. Übergeben Sie `minimize` die Zielfunktion und deren Gradienten. Benutzen Sie den Startpunkt $x =(0; 0)^\\top$."
   ]
  },
  {
   "cell_type": "code",
   "execution_count": null,
   "metadata": {},
   "outputs": [],
   "source": [
    "from scipy.optimize import minimize"
   ]
  },
  {
   "cell_type": "code",
   "execution_count": null,
   "metadata": {},
   "outputs": [],
   "source": []
  },
  {
   "cell_type": "markdown",
   "metadata": {},
   "source": [
    "## Übung 7\n",
    "\n",
    "Lösen Sie das Kleinste-Quadrate-Problem\n",
    "$$P: \\quad \\min\\limits_x \\; ||Ax-b||_2$$ \n",
    "mit $A=\\begin{pmatrix}1 & 2 \\\\ 4 & 5 \\\\ 3 & 3 \\end{pmatrix}$ und $b=(3,9,1)^\\top$. "
   ]
  },
  {
   "cell_type": "code",
   "execution_count": null,
   "metadata": {},
   "outputs": [],
   "source": []
  },
  {
   "cell_type": "markdown",
   "metadata": {},
   "source": [
    "## Übung 8\n",
    "\n",
    "Diese Aufgabe ist Stoff der Vorlesung \"Nichtlineare Optimierung\". Da dieses Schnellkursskript auch für die Veranstaltung \"Globale Optimierung\" verwendet wird, werden für diese Veranstaltung im Ordner zu den Schnellkursen ergänzende Informationen zur Verfügung gestellt. \n",
    "\n",
    "Gegeben sei das Optimierungsproblem \n",
    "$$RLS: \\quad \\min\\limits_{\\beta \\in \\mathbb{R}^n} \\ ||X\\beta-y\\vert\\vert_2^2+\\lambda ||\\beta ||_2^2$$\n",
    "mit $X\\in \\mathbb{R}^{m\\times n}$, $y\\in \\mathbb{R}^m$ und $\\lambda>0$. \n",
    "\n",
    "Laden Sie sich die Datei <i> Poly-Fit.npz </i> aus dem Ilias-Kursordner herunter. Diese enthält zwei Dateien: einen Trainingsdatensatz $x,y$ und einen Testdatensatz $x_{test}, y_{test}$. \n",
    "\n",
    "a) Bestimmen Sie ein Polynom 7. Grades, welches die Punkte im Trainings-Datensatz möglichst gut approximiert. Lösen Sie dazu ein Problem der Form $RLS$ und plotten Sie Ihre Ergebnisse für die $\\lambda$-Werte $0, 10^{-8}, 10^{-2}, 1$. Benutzen Sie die Aufgaben 1 und 2 der 1. Übung. Für die Lösung $\\beta^\\star$ des Problems $RLS$ gilt\n",
    "\\begin{align} (X^T X +\\lambda I )\\beta^\\star = X^T y. \\quad (1) \\end{align} \n",
    "(Dieser Zusammenhang wird in Übung 5 hergeleitet.)\n"
   ]
  },
  {
   "cell_type": "code",
   "execution_count": null,
   "metadata": {},
   "outputs": [],
   "source": [
    "data = np.load('Poly_Fit.npz')\n",
    "x = data['x']\n",
    "y = data['y']\n",
    "x_test = data['x_test']\n",
    "y_test = data['y_test']"
   ]
  },
  {
   "cell_type": "code",
   "execution_count": null,
   "metadata": {},
   "outputs": [],
   "source": []
  },
  {
   "cell_type": "markdown",
   "metadata": {},
   "source": [
    "(b) Untersuchen Sie für welchen Wert $\\lambda \\in \\{0, 10^{-8}, 10^{-2}, 0\\}$ das in Teilaufgabe (a) bestimmte Polynom den Test-Datensatz am besten approximiert, in dem Sinne, dass die Summe der Fehlerquadrate am kleinsten ist. Plotten Sie dieses anschließend mit den Testdaten."
   ]
  },
  {
   "cell_type": "code",
   "execution_count": null,
   "metadata": {},
   "outputs": [],
   "source": []
  }
 ],
 "metadata": {
  "kernelspec": {
   "display_name": "Python 3",
   "language": "python",
   "name": "python3"
  },
  "language_info": {
   "codemirror_mode": {
    "name": "ipython",
    "version": 3
   },
   "file_extension": ".py",
   "mimetype": "text/x-python",
   "name": "python",
   "nbconvert_exporter": "python",
   "pygments_lexer": "ipython3",
   "version": "3.7.3"
  }
 },
 "nbformat": 4,
 "nbformat_minor": 2
}
