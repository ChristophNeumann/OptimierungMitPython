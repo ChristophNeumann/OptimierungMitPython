{
 "cells": [
  {
   "cell_type": "markdown",
   "metadata": {},
   "source": [
    "# Übungsaufgaben Rechnerübung Globale Optimierung"
   ]
  },
  {
   "cell_type": "markdown",
   "metadata": {},
   "source": [
    "Für die folgenden Aufgaben benötigen Sie das numpy-Paket. Führen Sie die Zelle aus, bevor Sie mit den Übungen fortfahren."
   ]
  },
  {
   "cell_type": "code",
   "execution_count": 4,
   "metadata": {
    "collapsed": true
   },
   "outputs": [],
   "source": [
    "import numpy as np"
   ]
  },
  {
   "cell_type": "markdown",
   "metadata": {},
   "source": [
    "## Übung 1\n",
    "Schreiben Sie eine Funktion zur Berechnung des Volumens eines Quaders. Länge, Breite und Höhe sollen der Funktion als Parameter übergeben werden."
   ]
  },
  {
   "cell_type": "code",
   "execution_count": 4,
   "metadata": {
    "collapsed": false
   },
   "outputs": [],
   "source": [
    "def volumenQuader(l,b,h):\n",
    "    # Implementieren Sie hier die Funktion"
   ]
  },
  {
   "cell_type": "markdown",
   "metadata": {},
   "source": [
    "## Übung 2: \n",
    "Schreiben Sie eine Funktion für die stückweise definierte Funktion für Argumente aus $\\mathbb{R}$\n",
    "\n",
    "$$ f(x)\\ =\\ \\left\\{\\begin{array}{cl}0\\,,& x<0\\\\ \\frac{1}{2}\\,x^2\\,,&0\\le x\\le 1\\\\\n",
    "x-\\frac12\\,,& x>1\\ .\\end{array}\\right. $$"
   ]
  },
  {
   "cell_type": "code",
   "execution_count": 1,
   "metadata": {
    "collapsed": true
   },
   "outputs": [],
   "source": [
    "# Implementieren Sie die Funktion hier"
   ]
  },
  {
   "cell_type": "markdown",
   "metadata": {},
   "source": [
    "## Übung 3\n",
    "\n",
    "Plotten Sie die Funktion aus Übung 2 für Werte von x zwischen -3 und 5.\n",
    "\n",
    "<b>Hinweis: Bitte beachten Sie, dass die Funktion nicht vektorisiert geschrieben ist und eine Auswertung daher für jedes Element einzeln erforderlich ist </b>"
   ]
  },
  {
   "cell_type": "code",
   "execution_count": 2,
   "metadata": {
    "collapsed": true
   },
   "outputs": [],
   "source": [
    "from matplotlib import pyplot as plt\n",
    "%matplotlib notebook"
   ]
  },
  {
   "cell_type": "code",
   "execution_count": null,
   "metadata": {
    "collapsed": true
   },
   "outputs": [],
   "source": [
    "# Implementieren Sie die Funktion hier"
   ]
  },
  {
   "cell_type": "markdown",
   "metadata": {},
   "source": [
    "## Übung 4\n",
    "\n",
    "Schreiben Sie eine Funktion, die jeder Komponente $x_i$ eines Vektors $x\\in \\mathbb{R}^n$ den Funktionswert der Stückweise definierten Funktion aus Übung 2 zuordnet und ohne die Verwendung von Schleifen auskommt.\n",
    "\n",
    "Wiederholen Sie Übung 3 mit der neuen vektorisierten Funktion."
   ]
  },
  {
   "cell_type": "code",
   "execution_count": null,
   "metadata": {
    "collapsed": true
   },
   "outputs": [],
   "source": [
    "# Implementieren Sie die Funktion hier"
   ]
  },
  {
   "cell_type": "markdown",
   "metadata": {},
   "source": [
    "## Übung 5\n",
    "\n",
    "Schreiben Sie eine Funktion zur Bestimmung des drittgrößten Eintrags eines Vektors."
   ]
  },
  {
   "cell_type": "code",
   "execution_count": null,
   "metadata": {
    "collapsed": true
   },
   "outputs": [],
   "source": [
    "# Implementieren Sie die Funktion hier"
   ]
  },
  {
   "cell_type": "markdown",
   "metadata": {},
   "source": [
    "## Übung 6 \n",
    "\n",
    "Plotten Sie die Funktion $f(x) = (x_1^2-x_2)\\cdot(x_1^2 - 3 x_2)$ mit Argumenten aus einer Umgebung des Nullpunktes"
   ]
  },
  {
   "cell_type": "code",
   "execution_count": 3,
   "metadata": {
    "collapsed": true
   },
   "outputs": [],
   "source": [
    "from mpl_toolkits.mplot3d import axes3d\n",
    "from matplotlib import cm"
   ]
  },
  {
   "cell_type": "code",
   "execution_count": 5,
   "metadata": {
    "collapsed": true
   },
   "outputs": [],
   "source": [
    "# Implementieren Sie die Funktion hier"
   ]
  },
  {
   "cell_type": "markdown",
   "metadata": {},
   "source": [
    "## Übung 7\n",
    "Lösen Sie das folgende unrestringierte nichtlineare Optimierungsproblem\n",
    "\n",
    "$$\\min_{x\\in\\mathbb{R}^2}\\left\\Vert\\begin{pmatrix} x_1 \\\\ x_2 \\end{pmatrix}+\\begin{pmatrix} -1 \\\\ 2 \\end{pmatrix}\\right\\Vert_2^2$$\n",
    "\n",
    "mit Hilfe der Funktion `minimize` des [SciPy-Pakets](https://docs.scipy.org/doc/scipy/reference/generated/scipy.optimize.minimize.html#scipy.optimize.minimize) `scipy.optimize`. Benutzen Sie den Startpunkt $x =(0; 0)^\\top$. "
   ]
  },
  {
   "cell_type": "code",
   "execution_count": 1,
   "metadata": {
    "collapsed": true
   },
   "outputs": [],
   "source": [
    "# Implementieren Sie die Funktion hier"
   ]
  }
 ],
 "metadata": {
  "kernelspec": {
   "display_name": "Python 3",
   "language": "python",
   "name": "python3"
  },
  "language_info": {
   "codemirror_mode": {
    "name": "ipython",
    "version": 3
   },
   "file_extension": ".py",
   "mimetype": "text/x-python",
   "name": "python",
   "nbconvert_exporter": "python",
   "pygments_lexer": "ipython3",
   "version": "3.5.0"
  }
 },
 "nbformat": 4,
 "nbformat_minor": 2
}
